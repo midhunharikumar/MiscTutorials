{
 "cells": [
  {
   "cell_type": "code",
   "execution_count": 1,
   "metadata": {},
   "outputs": [],
   "source": [
    "import tensorflow as tf"
   ]
  },
  {
   "cell_type": "code",
   "execution_count": 2,
   "metadata": {},
   "outputs": [
    {
     "name": "stdout",
     "output_type": "stream",
     "text": [
      "Tensor(\"Mul:0\", shape=(4,), dtype=int32)\n"
     ]
    }
   ],
   "source": [
    "a = tf.constant([1,2,3,4])\n",
    "b = tf.constant([3,4,5,6])\n",
    "\n",
    "product = tf.multiply(a,b)\n",
    "print(product)"
   ]
  },
  {
   "cell_type": "code",
   "execution_count": 4,
   "metadata": {},
   "outputs": [
    {
     "name": "stdout",
     "output_type": "stream",
     "text": [
      "[ 3  8 15 24]\n"
     ]
    }
   ],
   "source": [
    "#To run the session do this\n",
    "sesh = tf.Session()\n",
    "\n",
    "print(sesh.run(product))\n",
    "\n",
    "sesh.close()"
   ]
  },
  {
   "cell_type": "code",
   "execution_count": 5,
   "metadata": {},
   "outputs": [
    {
     "name": "stdout",
     "output_type": "stream",
     "text": [
      "[ 3  8 15 24]\n"
     ]
    }
   ],
   "source": [
    "# To run the same session interactivelt.\n",
    "\n",
    "with tf.Session() as sesh:\n",
    "    \n",
    "    print(sesh.run(product))\n"
   ]
  },
  {
   "cell_type": "code",
   "execution_count": 8,
   "metadata": {},
   "outputs": [
    {
     "name": "stdout",
     "output_type": "stream",
     "text": [
      "[ 3  8 15 24]\n"
     ]
    }
   ],
   "source": [
    "# passing configuration options\n",
    "# Log device placement\n",
    "config=tf.ConfigProto(log_device_placement=True)\n",
    "# For allowing system to execute on CPU when GPU is not available or instructions cannot be placed on GPU.\n",
    "config=tf.ConfigProto(allow_soft_placement=True)\n",
    " \n",
    "with tf.Session() as sesh:\n",
    "    print(sesh.run(product))\n",
    "    "
   ]
  },
  {
   "cell_type": "code",
   "execution_count": null,
   "metadata": {},
   "outputs": [],
   "source": [
    "# create the Graph\n",
    "\n",
    "inputs = tf.placeholder(dtype = tf.float32, shape = [None,28,28,3])\n",
    "labels = tf.placeholder(dtype = tf.int32, shape = [None,28,28,3])\n",
    "\n",
    "conv1 = tf.nn.conv2d(inputs=input=inputs,)"
   ]
  }
 ],
 "metadata": {
  "kernelspec": {
   "display_name": "Python 3",
   "language": "python",
   "name": "python3"
  },
  "language_info": {
   "codemirror_mode": {
    "name": "ipython",
    "version": 3
   },
   "file_extension": ".py",
   "mimetype": "text/x-python",
   "name": "python",
   "nbconvert_exporter": "python",
   "pygments_lexer": "ipython3",
   "version": "3.7.0"
  }
 },
 "nbformat": 4,
 "nbformat_minor": 2
}
