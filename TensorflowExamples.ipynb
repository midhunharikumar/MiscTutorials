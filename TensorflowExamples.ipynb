{
 "cells": [
  {
   "cell_type": "code",
   "execution_count": 1,
   "metadata": {},
   "outputs": [],
   "source": [
    "import tensorflow as tf"
   ]
  },
  {
   "cell_type": "code",
   "execution_count": 2,
   "metadata": {},
   "outputs": [
    {
     "name": "stdout",
     "output_type": "stream",
     "text": [
      "Tensor(\"Mul:0\", shape=(4,), dtype=int32)\n",
      "Tensor(\"Mul_1:0\", shape=(4,), dtype=int32)\n",
      "[ 3  8 15 24]\n",
      "[ 4 10 18 28]\n"
     ]
    }
   ],
   "source": [
    "a = tf.constant([1,2,3,4])\n",
    "b = tf.constant([3,4,5,6])\n",
    "d = tf.placeholder(tf.int32,shape=[4,])\n",
    "\n",
    "product = tf.multiply(a,b)\n",
    "variable_product = tf.multiply(a,d)\n",
    "print(product)\n",
    "print(variable_product)\n",
    "with tf.Session() as sess:\n",
    "    print(sess.run(product))\n",
    "    print(sess.run(variable_product,feed_dict={d:[4,5,6,7]}))\n",
    "    "
   ]
  },
  {
   "cell_type": "code",
   "execution_count": 3,
   "metadata": {},
   "outputs": [
    {
     "name": "stdout",
     "output_type": "stream",
     "text": [
      "[1 1]\n",
      "[1. 1.]\n",
      "5\n"
     ]
    }
   ],
   "source": [
    "# Division\n",
    "\n",
    "b =  tf.constant([1,2],name='a')\n",
    "c =  tf.constant([1,2],name='d')\n",
    "                 \n",
    "with tf.Session() as sess:\n",
    "    print(sess.run(tf.div(c,b)))\n",
    "    print(sess.run(tf.divide(c,b)))\n",
    "    #print(sess.run(tf.multiply(c,b)))\n",
    "    print(sess.run(tf.tensordot(c,b,1)))"
   ]
  },
  {
   "cell_type": "code",
   "execution_count": 4,
   "metadata": {},
   "outputs": [
    {
     "name": "stdout",
     "output_type": "stream",
     "text": [
      "[[-0.7474798   1.3441317  -0.5669585  ... -0.05800634 -0.358214\n",
      "  -0.42919102]\n",
      " [-0.5838123   0.22501554  0.29377982 ... -0.7013908   1.4101467\n",
      "   1.8422872 ]\n",
      " [-0.09717309 -0.6616454   0.10380903 ...  0.6400553  -1.1499678\n",
      "  -1.1405008 ]\n",
      " ...\n",
      " [-0.31967235 -1.3033366  -0.3944227  ... -1.0506029   0.44769454\n",
      "  -0.3072052 ]\n",
      " [-1.4214174  -1.1506234  -0.51135755 ...  1.1424947  -0.14091788\n",
      "   0.57669103]\n",
      " [ 1.7812049  -0.231195   -0.866926   ... -0.5402367  -0.1893982\n",
      "   1.1744595 ]]\n",
      "[[ 0.10188536 -1.990175    1.2101655  ...  0.2923374  -0.3145851\n",
      "  -0.3607368 ]\n",
      " [-0.84608585 -1.8948158   1.3629472  ...  1.5808989   0.36639503\n",
      "  -0.85395926]\n",
      " [-0.86680573 -1.6228694  -1.0528815  ... -0.30090964 -0.17108543\n",
      "  -0.01829628]\n",
      " ...\n",
      " [ 1.4795758   0.40243116 -0.12421657 ... -0.7622455  -0.13116778\n",
      "  -0.29431728]\n",
      " [ 0.64753014 -0.14363894  0.520593   ... -1.4728115  -1.2509959\n",
      "   1.6713872 ]\n",
      " [-1.1606      1.2190616   1.1548011  ... -0.4449234  -1.0621207\n",
      "   1.2232842 ]]\n"
     ]
    }
   ],
   "source": [
    "# Example 1: creating variables\n",
    "s = tf.Variable(2, name='scalar') \n",
    "m = tf.Variable([[0, 1], [2, 3]], name='matrix') \n",
    "W = tf.Variable(tf.zeros([784,10]), name='big_matrix')\n",
    "V = tf.Variable(tf.truncated_normal([784, 10]), name='normal_matrix')\n",
    "\n",
    "s = tf.get_variable('scalar', initializer=tf.constant(2)) \n",
    "m = tf.get_variable('matrix', initializer=tf.constant([[0, 1], [2, 3]]))\n",
    "W = tf.get_variable('big_matrix', shape=(784, 10), initializer=tf.zeros_initializer())\n",
    "V = tf.get_variable('normal_matrix', shape=(784, 10), initializer=tf.truncated_normal_initializer())\n",
    "F = tf.get_variable('funny_matrix', shape=(220,9), initializer = tf.truncated_normal_initializer())\n",
    "\n",
    "with tf.Session() as sess:\n",
    "    sess.run(tf.global_variables_initializer())\n",
    "    print(V.eval())\n",
    "    print(F.eval())"
   ]
  },
  {
   "cell_type": "code",
   "execution_count": null,
   "metadata": {},
   "outputs": [],
   "source": [
    "Iris classification"
   ]
  }
 ],
 "metadata": {
  "kernelspec": {
   "display_name": "Python 2",
   "language": "python",
   "name": "python2"
  },
  "language_info": {
   "codemirror_mode": {
    "name": "ipython",
    "version": 2
   },
   "file_extension": ".py",
   "mimetype": "text/x-python",
   "name": "python",
   "nbconvert_exporter": "python",
   "pygments_lexer": "ipython2",
   "version": "2.7.10"
  }
 },
 "nbformat": 4,
 "nbformat_minor": 2
}
